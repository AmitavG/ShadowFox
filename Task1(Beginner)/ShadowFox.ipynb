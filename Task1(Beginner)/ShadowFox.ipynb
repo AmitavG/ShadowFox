{
 "cells": [
  {
   "cell_type": "markdown",
   "id": "bb705b19-f68e-406c-a8b1-95e4e440bbe2",
   "metadata": {},
   "source": [
    "# BEGINNER TASK"
   ]
  },
  {
   "cell_type": "markdown",
   "id": "efc67764-7d45-416b-817e-45584d46521f",
   "metadata": {},
   "source": [
    "# => TASK 1 - VARIABLES"
   ]
  },
  {
   "cell_type": "markdown",
   "id": "b1d87406-3fe5-4354-b035-cbfdadbb6d5a",
   "metadata": {},
   "source": [
    "#### 1. Create a variable named pi and store the value 22/7 in it. Now check the data type of this variable."
   ]
  },
  {
   "cell_type": "code",
   "execution_count": 61,
   "id": "d9008da4-7015-4bdb-8ddc-d46e38ec19b0",
   "metadata": {},
   "outputs": [
    {
     "name": "stdout",
     "output_type": "stream",
     "text": [
      "<class 'float'>\n",
      "\n"
     ]
    }
   ],
   "source": [
    "pi = 22/7\n",
    "print(type(pi))\n",
    "print()"
   ]
  },
  {
   "cell_type": "markdown",
   "id": "4ff2c952-460c-41a3-8aa7-e16d9fd18803",
   "metadata": {},
   "source": [
    "#### 2. Create a variable called for and assign it a value 4. See what happens and find out the reason behind the behavior that you see."
   ]
  },
  {
   "cell_type": "code",
   "execution_count": 60,
   "id": "ea8f5e8b-615b-4bcd-bfce-3bffd8ab078c",
   "metadata": {},
   "outputs": [
    {
     "name": "stdout",
     "output_type": "stream",
     "text": [
      "4\n",
      "\n"
     ]
    }
   ],
   "source": [
    "for_val = 4\n",
    "print(for_val)\n",
    "print()"
   ]
  },
  {
   "cell_type": "markdown",
   "id": "8203e124-0ea2-40f3-850b-fd86eef2e911",
   "metadata": {},
   "source": [
    "#### 3. Store the principal amount, rate of interest, and time in different variables and then calculate the Simple Interest for 3 years. Formula: Simple Interest = P x R x T / 100"
   ]
  },
  {
   "cell_type": "code",
   "execution_count": 59,
   "id": "70682a4f-e30e-4e8e-827e-798d1c066c14",
   "metadata": {},
   "outputs": [
    {
     "name": "stdin",
     "output_type": "stream",
     "text": [
      "Enter the principal amount  10000\n",
      "Enter the rate of interest  5\n"
     ]
    },
    {
     "name": "stdout",
     "output_type": "stream",
     "text": [
      "Simple Interest:  1500.0\n",
      "\n",
      "\n",
      "\n"
     ]
    }
   ],
   "source": [
    "pa = float(input(\"Enter the principal amount \"))\n",
    "rate = float(input(\"Enter the rate of interest \"))\n",
    "time = 3\n",
    "SI = (pa*rate*time)/100\n",
    "\n",
    "print(\"Simple Interest: \", SI)\n",
    "print()\n",
    "print()"
   ]
  },
  {
   "cell_type": "markdown",
   "id": "69001b9b-d161-40e3-b2be-ec83b61a5263",
   "metadata": {},
   "source": [
    "# => TASK 2 - NUMBERS"
   ]
  },
  {
   "cell_type": "markdown",
   "id": "319d1707-d445-4907-8f91-454e3cd26c92",
   "metadata": {},
   "source": [
    "#### 1. Write a function that takes two arguments, 145 and 'o', and uses the `format` function to return a formatted string. Print the  result. Try to identify the representation used"
   ]
  },
  {
   "cell_type": "code",
   "execution_count": 58,
   "id": "8da90771-efed-4bbf-a3dc-e19207a5530a",
   "metadata": {},
   "outputs": [
    {
     "name": "stdout",
     "output_type": "stream",
     "text": [
      "Formatted String:  ooo145oooo\n",
      "Datatype:  <class 'str'>\n",
      "\n"
     ]
    }
   ],
   "source": [
    "def formatFunction(num, char):\n",
    "    return \"{0:{1}^10}\".format(num, char)\n",
    "\n",
    "res = formatFunction(145, \"o\")\n",
    "print(\"Formatted String: \", res)\n",
    "print(\"Datatype: \", type(res))\n",
    "print()"
   ]
  },
  {
   "cell_type": "markdown",
   "id": "8544cafb-5f91-4c34-bb3f-b616331b0e2e",
   "metadata": {},
   "source": [
    "#### 2. In a village, there is a circular pond with a radius of 84 meters. Calculate the area of the pond using the formula: Circle Area = π r^2. (Use the value 3.14 for π) Bonus Question: If there is exactly 1.4 liters of water in a square meter, what is the total amount of water in the pond? Print the answer without any decimal point in it. Hint: Circle Area = π r^2 Water in the pond = Pond Area Water per Square Meter"
   ]
  },
  {
   "cell_type": "code",
   "execution_count": 57,
   "id": "c76ed0be-c776-4d12-89d0-df7b736bf6e5",
   "metadata": {},
   "outputs": [
    {
     "name": "stdout",
     "output_type": "stream",
     "text": [
      "Area of the circle:  22155.84\n",
      "Total amount of water in the pond:  31018\n",
      "\n"
     ]
    }
   ],
   "source": [
    "from math import floor\n",
    "\n",
    "\n",
    "radius = 84\n",
    "pie = 3.14\n",
    "area = pie * radius * radius\n",
    "print(\"Area of the circle: \", area)\n",
    "\n",
    "water = 1.4 * area\n",
    "print(\"Total amount of water in the pond: \", floor(water))\n",
    "print()"
   ]
  },
  {
   "cell_type": "markdown",
   "id": "28c3f0a8-8893-4db9-b6b9-0e2c4770309c",
   "metadata": {},
   "source": [
    "#### 3. If you cross a 490meterlong street in 7 minutes, calculate your speed in meters per second. Print the answer without any decimal point in it. Hint: Speed = Distance / Time"
   ]
  },
  {
   "cell_type": "code",
   "execution_count": 56,
   "id": "ba11f674-3edc-4c83-a57e-6c829ea5bff7",
   "metadata": {},
   "outputs": [
    {
     "name": "stdout",
     "output_type": "stream",
     "text": [
      "Speed in mps:  1\n",
      "\n",
      "\n"
     ]
    }
   ],
   "source": [
    "from math import floor\n",
    "\n",
    "\n",
    "distance = 490\n",
    "time = 7*60\n",
    "speed = distance / time\n",
    "print(\"Speed in mps: \", floor(speed))\n",
    "print()\n",
    "print()"
   ]
  },
  {
   "cell_type": "markdown",
   "id": "322f3bd3-cbed-443d-a506-50ba9a0093d4",
   "metadata": {},
   "source": [
    "# => TASK 3 - LIST"
   ]
  },
  {
   "cell_type": "markdown",
   "id": "4d9c5fff-4e0d-4e1c-a251-1b87066567b5",
   "metadata": {},
   "source": [
    "#### 1. You have a list of superheroes representing the Justice League. justice_league = [\"Superman\",\"Batman\",\"WonderWoman\",\"Flash\",\"Aquaman\", \"Green Lantern\"]"
   ]
  },
  {
   "cell_type": "markdown",
   "id": "71fa8f4d-3c19-4f84-b8eb-62c068744e2b",
   "metadata": {},
   "source": [
    "#### 1. Calculate the number of members in the Justice League."
   ]
  },
  {
   "cell_type": "code",
   "execution_count": 50,
   "id": "c09041e3-0663-4ebe-9d17-b137454cfca6",
   "metadata": {},
   "outputs": [
    {
     "name": "stdout",
     "output_type": "stream",
     "text": [
      "Number of members in the justice league:  6\n",
      "\n"
     ]
    }
   ],
   "source": [
    "justice_league = [\"Superman\", \"Batman\", \"WonderWoman\", \"Flash\", \"Aquaman\", \"Green Lantern\"]\n",
    "num = len(justice_league)\n",
    "print(\"Number of members in the justice league: \", num)\n",
    "print()"
   ]
  },
  {
   "cell_type": "markdown",
   "id": "a57a2615-07a2-40d9-8dcf-1a1bbbb8cd08",
   "metadata": {},
   "source": [
    "#### 2. Batman recruited Batgirl and Nightwing as new members.Add them to your list."
   ]
  },
  {
   "cell_type": "code",
   "execution_count": 51,
   "id": "cac4556e-5f71-4978-8f23-ae7006db90e3",
   "metadata": {},
   "outputs": [
    {
     "name": "stdout",
     "output_type": "stream",
     "text": [
      "['Superman', 'Batman', 'WonderWoman', 'Flash', 'Aquaman', 'Green Lantern', 'Batgirl', 'Nightwing']\n",
      "\n"
     ]
    }
   ],
   "source": [
    "justice_league.extend([\"Batgirl\", \"Nightwing\"])\n",
    "print(justice_league)\n",
    "print()"
   ]
  },
  {
   "cell_type": "markdown",
   "id": "868ec8fd-e7f6-4e7b-9676-180346ce0999",
   "metadata": {},
   "source": [
    "#### 3. Wonder Woman is now the leader of the Justice League.Move her to the beginning of the list."
   ]
  },
  {
   "cell_type": "code",
   "execution_count": 52,
   "id": "53e630f3-4ae1-451a-bf47-a1b4a1bc8374",
   "metadata": {},
   "outputs": [
    {
     "name": "stdout",
     "output_type": "stream",
     "text": [
      "['WonderWoman', 'Superman', 'Batman', 'Flash', 'Aquaman', 'Green Lantern', 'Batgirl', 'Nightwing']\n",
      "\n"
     ]
    }
   ],
   "source": [
    "justice_league.remove(\"WonderWoman\")\n",
    "justice_league.insert(0, \"WonderWoman\")\n",
    "print(justice_league)\n",
    "print()"
   ]
  },
  {
   "cell_type": "markdown",
   "id": "7e692d6f-5b94-4cf6-a4e7-fbda7bd8d549",
   "metadata": {},
   "source": [
    "#### 4. Aquaman and Flash are having conflicts, and you need to separate them. Choose either \"Green Lantern\" or \"Superman\" and move them in between Aquaman and Flash."
   ]
  },
  {
   "cell_type": "code",
   "execution_count": 53,
   "id": "75a2e7df-d717-43cb-bb7d-2075dfc3f48f",
   "metadata": {},
   "outputs": [
    {
     "name": "stdout",
     "output_type": "stream",
     "text": [
      "['WonderWoman', 'Batman', 'Flash', 'Superman', 'Aquaman', 'Green Lantern', 'Batgirl', 'Nightwing']\n",
      "\n"
     ]
    }
   ],
   "source": [
    "justice_league.remove(\"Superman\")\n",
    "justice_league.insert(justice_league.index(\"Flash\") + 1, \"Superman\")\n",
    "print(justice_league)\n",
    "print()"
   ]
  },
  {
   "cell_type": "markdown",
   "id": "37e031e9-3b7b-42c4-97b9-379b344089f3",
   "metadata": {},
   "source": [
    "#### 5. The Justice League faced a crisis, and Superman decided to assemble a new team. Replace the existing list with the following new members:  \"Cyborg\",\"Shazam\",\"Hawkgirl\",\"Martian Manhunter\",\"Green Arrow\"."
   ]
  },
  {
   "cell_type": "code",
   "execution_count": 54,
   "id": "857627f5-18fe-4366-8a9e-02b9ccecbb89",
   "metadata": {},
   "outputs": [
    {
     "name": "stdout",
     "output_type": "stream",
     "text": [
      "['Cyborg', 'Shazam', 'Hawkgirl', 'Martian Manhunter', 'Green Arrow']\n",
      "\n"
     ]
    }
   ],
   "source": [
    "justice_league = [\"Cyborg\", \"Shazam\", \"Hawkgirl\", \"Martian Manhunter\", \"Green Arrow\"]\n",
    "print(justice_league)\n",
    "print()"
   ]
  },
  {
   "cell_type": "markdown",
   "id": "599ce87a-0b65-461b-83a3-d08f6e68fbe2",
   "metadata": {},
   "source": [
    "#### 6. Sort the Justice League alphabetically. The hero at the 0th index will become the new leader."
   ]
  },
  {
   "cell_type": "code",
   "execution_count": 55,
   "id": "774f6267-9357-4e16-9761-deb9b61ef82d",
   "metadata": {},
   "outputs": [
    {
     "name": "stdout",
     "output_type": "stream",
     "text": [
      "['Cyborg', 'Green Arrow', 'Hawkgirl', 'Martian Manhunter', 'Shazam']\n",
      "The new leader is: Cyborg\n",
      "\n",
      "\n"
     ]
    }
   ],
   "source": [
    "justice_league.sort()\n",
    "print(justice_league)\n",
    "print(\"The new leader is:\", justice_league[0])\n",
    "print()\n",
    "print()"
   ]
  },
  {
   "cell_type": "markdown",
   "id": "acfba8ee-c5ea-4055-9818-506a3159dece",
   "metadata": {},
   "source": [
    "# => TASK 4 - IF CONDITION"
   ]
  },
  {
   "cell_type": "markdown",
   "id": "62061093-0cf8-40c0-b04f-63c49419bb1e",
   "metadata": {},
   "source": [
    "#### 1. Write a program to determine the BMI Category based on user input.\n",
    "#### Ask the user to:\n",
    "#### Enter height in meters\n",
    "#### Enter weight in kilograms\n",
    "#### Calculate BMI using the formula: BMI = weight / (height)2\n",
    "#### Use the following categories:\n",
    "#### If BMI is 30 or greater, print \"Obesity\"\n",
    "#### If BMI is between 25 and 29, print \"Overweight\"\n",
    "#### If BMI is between 18.5 and 25, print \"Normal\"\n",
    "#### If BMI is less than 18.5, print 'Underweight"
   ]
  },
  {
   "cell_type": "code",
   "execution_count": 45,
   "id": "778e2960-dbb9-4d37-9da9-a31ef6c2e95d",
   "metadata": {},
   "outputs": [
    {
     "name": "stdin",
     "output_type": "stream",
     "text": [
      "Enter height in meters:  180\n",
      "Enter weight in kilograms:  50\n"
     ]
    },
    {
     "name": "stdout",
     "output_type": "stream",
     "text": [
      "Underweight\n",
      "\n"
     ]
    }
   ],
   "source": [
    "height = float(input(\"Enter height in meters: \"))\n",
    "weight = float(input(\"Enter weight in kilograms: \"))\n",
    "bmi = weight / (height * height)\n",
    "if bmi >= 30:\n",
    "    print(\"Obesity\")\n",
    "elif bmi >= 25:\n",
    "    print(\"Overweight\")\n",
    "elif bmi >= 18.5 and bmi < 25:\n",
    "    print(\"Normal\")\n",
    "else:\n",
    "    print(\"Underweight\")\n",
    "print()"
   ]
  },
  {
   "cell_type": "markdown",
   "id": "23698265-db7a-4f3f-9b14-ac2520caec2e",
   "metadata": {},
   "source": [
    "#### 2. Write a program to determine which country a city belongs to. Givenlist of cities per country: \n",
    "#### Australia = [\"Sydney\",\"Melbourne\",\"Brisbane\",\"Perth\"]\n",
    "#### UAE = [\"Dubai\",\"Abu Dhabi\",\"Sharjah\",\"Ajman\"]\n",
    "#### India = [\"Mumbai\",\"Bangalore\",\"Chennai\",\"Delhi\"]\n",
    "#### Ask the user to enter a city name and print the corresponding country."
   ]
  },
  {
   "cell_type": "code",
   "execution_count": 44,
   "id": "a2aa21dd-9e9c-42ba-92b7-6786bc869fdb",
   "metadata": {},
   "outputs": [
    {
     "name": "stdin",
     "output_type": "stream",
     "text": [
      "Enter a city name:  Mumbai\n"
     ]
    },
    {
     "name": "stdout",
     "output_type": "stream",
     "text": [
      "Mumbai is there in India\n",
      "\n"
     ]
    }
   ],
   "source": [
    "cities = {\n",
    "    \"Australia\" : [\"Sydney\",\"Melbourne\",\"Brisbane\",\"Perth\"],\n",
    "    \"UAE\" : [\"Dubai\",\"Abu Dhabi\",\"Sharjah\",\"Ajman\"],\n",
    "    \"India\" : [\"Mumbai\",\"Bangalore\",\"Chennai\",\"Delhi\"]\n",
    "}\n",
    "\n",
    "input_city = input(\"Enter a city name: \")\n",
    "\n",
    "for country, city in cities.items():\n",
    "    if input_city in city:\n",
    "        print(f\"{input_city} is there in {country}\")\n",
    "        break\n",
    "else:\n",
    "    print(\"City isnt present in the database\")\n",
    "print()"
   ]
  },
  {
   "cell_type": "markdown",
   "id": "4d229189-3bcb-46a5-a866-d326a57000d4",
   "metadata": {},
   "source": [
    "#### 3. Write a program to check if two cities belong to the same country.\n",
    "#### Ask the user to enter two cities and print whether they belong to the same country or not."
   ]
  },
  {
   "cell_type": "code",
   "execution_count": 43,
   "id": "67f59195-f90d-4ce1-b9cc-e663c3e7243f",
   "metadata": {},
   "outputs": [
    {
     "name": "stdin",
     "output_type": "stream",
     "text": [
      "Enter the first city  Mumbai\n",
      "Enter the second city  Bangalore\n"
     ]
    },
    {
     "name": "stdout",
     "output_type": "stream",
     "text": [
      "Both cities are in India\n",
      "\n",
      "\n"
     ]
    }
   ],
   "source": [
    "cities = {\n",
    "    \"Australia\" : [\"Sydney\",\"Melbourne\",\"Brisbane\",\"Perth\"],\n",
    "    \"UAE\" : [\"Dubai\",\"Abu Dhabi\",\"Sharjah\",\"Ajman\"],\n",
    "    \"India\" : [\"Mumbai\",\"Bangalore\",\"Chennai\",\"Delhi\"]\n",
    "}\n",
    "\n",
    "city_1 = input(\"Enter the first city \")\n",
    "city_2 = input(\"Enter the second city \")\n",
    "\n",
    "res = False\n",
    "\n",
    "for country, city in cities.items():\n",
    "    if city_1 in city and city_2 in city:\n",
    "        # print(f\"Both cities are in {country}\")\n",
    "        res = True\n",
    "        break\n",
    "if res:\n",
    "    print(f\"Both cities are in {country}\")\n",
    "\n",
    "if not res:\n",
    "    print(\"They dont belong to the same country\")\n",
    "print()\n",
    "print()"
   ]
  },
  {
   "cell_type": "markdown",
   "id": "5607ddba-3600-4312-844e-dc9fd971b127",
   "metadata": {},
   "source": [
    "# => TASK 5 - LOOPS"
   ]
  },
  {
   "cell_type": "markdown",
   "id": "2dee7296-f98b-479b-9f4c-e7685c6e20c0",
   "metadata": {},
   "source": [
    "#### 1. Using a for loop, simulate rolling a sixsided die multiple times (at least 20 times). Count and print the following statistics:\n",
    "#### How many times you rolled a 6\n",
    "#### How many times you rolled a 1\n",
    "#### How many times you rolled two 6s in a row"
   ]
  },
  {
   "cell_type": "code",
   "execution_count": 42,
   "id": "c6202003-c14b-4224-a39a-c38268bb1378",
   "metadata": {},
   "outputs": [
    {
     "name": "stdout",
     "output_type": "stream",
     "text": [
      "Rolled:  5\n",
      "Rolled:  6\n",
      "Rolled:  1\n",
      "Rolled:  6\n",
      "Rolled:  5\n",
      "Rolled:  3\n",
      "Rolled:  3\n",
      "Rolled:  1\n",
      "Rolled:  2\n",
      "Rolled:  3\n",
      "Rolled:  4\n",
      "Rolled:  5\n",
      "Rolled:  2\n",
      "Rolled:  5\n",
      "Rolled:  6\n",
      "Rolled:  1\n",
      "Rolled:  1\n",
      "Rolled:  6\n",
      "Rolled:  5\n",
      "Rolled:  1\n",
      "6 was rolled for:  4\n",
      "1 was rolled for:  5\n",
      "2 6's were rolled for:  0\n",
      "\n"
     ]
    }
   ],
   "source": [
    "import random\n",
    "\n",
    "one = 0\n",
    "six = 0\n",
    "sixpeat = 0\n",
    "prev = 0\n",
    "\n",
    "for _ in range(20):\n",
    "    dice = random.randint(1,6)\n",
    "    print(\"Rolled: \", dice)\n",
    "\n",
    "    if dice == 6:\n",
    "        six += 1\n",
    "    if dice == 1:\n",
    "        one += 1\n",
    "    if dice == 6 and prev == 6:\n",
    "        sixpeat += 1\n",
    "    \n",
    "    prev = dice\n",
    "\n",
    "print(\"6 was rolled for: \", six)\n",
    "print(\"1 was rolled for: \", one)\n",
    "print(\"2 6's were rolled for: \", sixpeat)\n",
    "print()"
   ]
  },
  {
   "cell_type": "markdown",
   "id": "1902e2eb-8721-4903-89ad-55f261a81946",
   "metadata": {},
   "source": [
    "#### 2. Imagine you are doing a workout routine, and you have to complete 100 jumping jacks. Write a program that:\n",
    "#### Asks you to perform 10 jumping jacks at a time. After each set, it asks, \"Are you tired?\"\n",
    "#### If you reply \"yes\" or \"y,\" it should ask if you want to skip the remaining sets.\n",
    "#### If you reply \"yes\" or \"y,\" it should break and print, 'You completed a total of jumping jacks."
   ]
  },
  {
   "cell_type": "code",
   "execution_count": 63,
   "id": "28481cd8-2816-4db6-989f-523ee8d874c2",
   "metadata": {},
   "outputs": [
    {
     "name": "stdout",
     "output_type": "stream",
     "text": [
      "100 jumping jacks are remaining. \n"
     ]
    },
    {
     "name": "stdin",
     "output_type": "stream",
     "text": [
      "Perform 10 jumping jacks? (yes/no)  yes\n"
     ]
    },
    {
     "name": "stdout",
     "output_type": "stream",
     "text": [
      "90 jumping jacks are remaining. \n"
     ]
    },
    {
     "name": "stdin",
     "output_type": "stream",
     "text": [
      "Perform 10 jumping jacks? (yes/no)  yes\n"
     ]
    },
    {
     "name": "stdout",
     "output_type": "stream",
     "text": [
      "80 jumping jacks are remaining. \n"
     ]
    },
    {
     "name": "stdin",
     "output_type": "stream",
     "text": [
      "Perform 10 jumping jacks? (yes/no)  yes\n"
     ]
    },
    {
     "name": "stdout",
     "output_type": "stream",
     "text": [
      "70 jumping jacks are remaining. \n"
     ]
    },
    {
     "name": "stdin",
     "output_type": "stream",
     "text": [
      "Perform 10 jumping jacks? (yes/no)  yes\n"
     ]
    },
    {
     "name": "stdout",
     "output_type": "stream",
     "text": [
      "60 jumping jacks are remaining. \n"
     ]
    },
    {
     "name": "stdin",
     "output_type": "stream",
     "text": [
      "Perform 10 jumping jacks? (yes/no)  yes\n"
     ]
    },
    {
     "name": "stdout",
     "output_type": "stream",
     "text": [
      "50 jumping jacks are remaining. \n"
     ]
    },
    {
     "name": "stdin",
     "output_type": "stream",
     "text": [
      "Perform 10 jumping jacks? (yes/no)  yes\n"
     ]
    },
    {
     "name": "stdout",
     "output_type": "stream",
     "text": [
      "40 jumping jacks are remaining. \n"
     ]
    },
    {
     "name": "stdin",
     "output_type": "stream",
     "text": [
      "Perform 10 jumping jacks? (yes/no)  yes\n"
     ]
    },
    {
     "name": "stdout",
     "output_type": "stream",
     "text": [
      "30 jumping jacks are remaining. \n"
     ]
    },
    {
     "name": "stdin",
     "output_type": "stream",
     "text": [
      "Perform 10 jumping jacks? (yes/no)  yes\n"
     ]
    },
    {
     "name": "stdout",
     "output_type": "stream",
     "text": [
      "20 jumping jacks are remaining. \n"
     ]
    },
    {
     "name": "stdin",
     "output_type": "stream",
     "text": [
      "Perform 10 jumping jacks? (yes/no)  yes\n"
     ]
    },
    {
     "name": "stdout",
     "output_type": "stream",
     "text": [
      "10 jumping jacks are remaining. \n"
     ]
    },
    {
     "name": "stdin",
     "output_type": "stream",
     "text": [
      "Perform 10 jumping jacks? (yes/no)  yes\n"
     ]
    },
    {
     "name": "stdout",
     "output_type": "stream",
     "text": [
      "Congractulation! You have completed the workout successfully! \n",
      "\n",
      "\n"
     ]
    }
   ],
   "source": [
    "total = 100\n",
    "remaining = total\n",
    "\n",
    "while remaining > 0:\n",
    "    print(f\"{remaining} jumping jacks are remaining. \")\n",
    "    if remaining > 10:\n",
    "        response = input(\"Perform 10 jumping jacks? (yes/no) \")\n",
    "        if response.lower() in [\"no\", \"no\"]:\n",
    "            tired = input(\"Are you tired? (yes/np) \")\n",
    "            if tired.lower() in [\"yes\", \"y\"]:\n",
    "                skip = input(\"Do you want to skip the remaining sets? (yes/no) \")\n",
    "                if skip.lower() in [\"yes\", \"y\"]:\n",
    "                    print(f\"You have completed a total of {total - remaining} jumping jacks\")\n",
    "                    break\n",
    "                else:\n",
    "                    continue\n",
    "        else:\n",
    "            remaining -= 10\n",
    "    else:\n",
    "        response = input(f\"Perform {remaining} jumping jacks? (yes/no) \")\n",
    "        if response.lower() in [\"no\", \"n\"]:\n",
    "            tired = input(\"Are you tired? (yes/no) \")\n",
    "            if tired.lower() in [\"yes\", \"y\"]:\n",
    "                skip = input(\"Do you want to skip the remaining sets? (yes/no) \")\n",
    "                if skip.lower() in [\"yes\", \"y\"]:\n",
    "                    print(f\"You have completed a total of {total - remaining} jumping jacks \")\n",
    "                    break\n",
    "                else:\n",
    "                    continue\n",
    "            else:\n",
    "                continue\n",
    "        else:\n",
    "            print(\"Congractulation! You have completed the workout successfully! \")\n",
    "            break\n",
    "print()\n",
    "print()"
   ]
  },
  {
   "cell_type": "code",
   "execution_count": null,
   "id": "73db35f2-9928-47ca-8db0-4162cda2f12d",
   "metadata": {},
   "outputs": [],
   "source": []
  }
 ],
 "metadata": {
  "kernelspec": {
   "display_name": "Python 3 (ipykernel)",
   "language": "python",
   "name": "python3"
  },
  "language_info": {
   "codemirror_mode": {
    "name": "ipython",
    "version": 3
   },
   "file_extension": ".py",
   "mimetype": "text/x-python",
   "name": "python",
   "nbconvert_exporter": "python",
   "pygments_lexer": "ipython3",
   "version": "3.8.2"
  }
 },
 "nbformat": 4,
 "nbformat_minor": 5
}
